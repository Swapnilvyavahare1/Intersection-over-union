{
 "cells": [
  {
   "cell_type": "code",
   "execution_count": 1,
   "id": "c0c48487",
   "metadata": {},
   "outputs": [],
   "source": [
    "def calculate_iou(box1, box2):\n",
    "    \"\"\"\n",
    "    Calculate Intersection over Union (IoU) between two bounding boxes.\n",
    "\n",
    "    Parameters:\n",
    "    - box1: Tuple or List (x1, y1, x2, y2) representing the coordinates of the first bounding box.\n",
    "    - box2: Tuple or List (x1, y1, x2, y2) representing the coordinates of the second bounding box.\n",
    "\n",
    "    Returns:\n",
    "    - iou: IoU value as a float between 0 and 1.\n",
    "    \"\"\"\n",
    "    x1 = max(box1[0], box2[0])\n",
    "    y1 = max(box1[1], box2[1])\n",
    "    x2 = min(box1[2], box2[2])\n",
    "    y2 = min(box1[3], box2[3])\n",
    "\n",
    "    # Calculate the intersection area\n",
    "    intersection_area = max(0, x2 - x1 + 1) * max(0, y2 - y1 + 1)\n",
    "\n",
    "    # Calculate the union area\n",
    "    box1_area = (box1[2] - box1[0] + 1) * (box1[3] - box1[1] + 1)\n",
    "    box2_area = (box2[2] - box2[0] + 1) * (box2[3] - box2[1] + 1)\n",
    "    union_area = box1_area + box2_area - intersection_area\n",
    "\n",
    "    # Calculate IoU\n",
    "    iou = intersection_area / union_area\n",
    "\n",
    "    return iou"
   ]
  },
  {
   "cell_type": "code",
   "execution_count": 6,
   "id": "821becb1",
   "metadata": {},
   "outputs": [],
   "source": [
    "box1= [1,1,2,2]\n",
    "box2= [1.5,1.5,3,3]"
   ]
  },
  {
   "cell_type": "code",
   "execution_count": 7,
   "id": "aff15a39",
   "metadata": {},
   "outputs": [
    {
     "data": {
      "text/plain": [
       "0.28125"
      ]
     },
     "execution_count": 7,
     "metadata": {},
     "output_type": "execute_result"
    }
   ],
   "source": [
    "calculate_iou(box1, box2)"
   ]
  },
  {
   "cell_type": "code",
   "execution_count": null,
   "id": "fd56d27a",
   "metadata": {},
   "outputs": [],
   "source": []
  }
 ],
 "metadata": {
  "kernelspec": {
   "display_name": "Python 3 (ipykernel)",
   "language": "python",
   "name": "python3"
  },
  "language_info": {
   "codemirror_mode": {
    "name": "ipython",
    "version": 3
   },
   "file_extension": ".py",
   "mimetype": "text/x-python",
   "name": "python",
   "nbconvert_exporter": "python",
   "pygments_lexer": "ipython3",
   "version": "3.9.12"
  }
 },
 "nbformat": 4,
 "nbformat_minor": 5
}
